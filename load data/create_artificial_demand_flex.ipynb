{
 "cells": [
  {
   "cell_type": "code",
   "execution_count": 77,
   "metadata": {},
   "outputs": [],
   "source": [
    "# SPDX-FileCopyrightText: 2022 Aleksander Grochowicz\n",
    "#\n",
    "# SPDX-License-Identifier: GPL-3.0-or-later\n",
    "\n",
    "from matplotlib.ticker import AutoMinorLocator\n",
    "import pandas as pd\n",
    "from datetime import date\n",
    "import holidays\n",
    "from utilities import compute_cdd_hdd_artificial, create_daily_data, create_hourly_data"
   ]
  },
  {
   "cell_type": "markdown",
   "metadata": {},
   "source": [
    "# Load temperature data"
   ]
  },
  {
   "cell_type": "code",
   "execution_count": 327,
   "metadata": {},
   "outputs": [
    {
     "name": "stderr",
     "output_type": "stream",
     "text": [
      "C:\\Users\\JD278300\\AppData\\Local\\Temp\\ipykernel_31620\\3954771556.py:5: FutureWarning: 'H' is deprecated and will be removed in a future version, please use 'h' instead.\n",
      "  index =  pd.date_range(start='2021-01-01', end='2021-12-31 23:00:00', freq='H')\n"
     ]
    }
   ],
   "source": [
    "# .txt files from ERA5 notebook\n",
    "temperatures = pd.read_csv('original_data/temp_moy_South Korea_2021_2021.txt', header = None)\n",
    "temperatures.columns = ['KR']\n",
    "year = 2021\n",
    "index =  pd.date_range(start='2021-01-01', end='2021-12-31 23:00:00', freq='H')\n",
    "temperatures.index =index"
   ]
  },
  {
   "cell_type": "code",
   "execution_count": 328,
   "metadata": {},
   "outputs": [
    {
     "data": {
      "text/html": [
       "<div>\n",
       "<style scoped>\n",
       "    .dataframe tbody tr th:only-of-type {\n",
       "        vertical-align: middle;\n",
       "    }\n",
       "\n",
       "    .dataframe tbody tr th {\n",
       "        vertical-align: top;\n",
       "    }\n",
       "\n",
       "    .dataframe thead th {\n",
       "        text-align: right;\n",
       "    }\n",
       "</style>\n",
       "<table border=\"1\" class=\"dataframe\">\n",
       "  <thead>\n",
       "    <tr style=\"text-align: right;\">\n",
       "      <th></th>\n",
       "      <th>KR</th>\n",
       "    </tr>\n",
       "  </thead>\n",
       "  <tbody>\n",
       "    <tr>\n",
       "      <th>2021-01-01 00:00:00</th>\n",
       "      <td>-7.208960</td>\n",
       "    </tr>\n",
       "    <tr>\n",
       "      <th>2021-01-01 01:00:00</th>\n",
       "      <td>-6.802008</td>\n",
       "    </tr>\n",
       "    <tr>\n",
       "      <th>2021-01-01 02:00:00</th>\n",
       "      <td>-2.131903</td>\n",
       "    </tr>\n",
       "    <tr>\n",
       "      <th>2021-01-01 03:00:00</th>\n",
       "      <td>-1.620947</td>\n",
       "    </tr>\n",
       "    <tr>\n",
       "      <th>2021-01-01 04:00:00</th>\n",
       "      <td>-1.367712</td>\n",
       "    </tr>\n",
       "    <tr>\n",
       "      <th>...</th>\n",
       "      <td>...</td>\n",
       "    </tr>\n",
       "    <tr>\n",
       "      <th>2021-12-31 19:00:00</th>\n",
       "      <td>-8.567328</td>\n",
       "    </tr>\n",
       "    <tr>\n",
       "      <th>2021-12-31 20:00:00</th>\n",
       "      <td>-9.063788</td>\n",
       "    </tr>\n",
       "    <tr>\n",
       "      <th>2021-12-31 21:00:00</th>\n",
       "      <td>-9.432013</td>\n",
       "    </tr>\n",
       "    <tr>\n",
       "      <th>2021-12-31 22:00:00</th>\n",
       "      <td>-9.613074</td>\n",
       "    </tr>\n",
       "    <tr>\n",
       "      <th>2021-12-31 23:00:00</th>\n",
       "      <td>-9.773749</td>\n",
       "    </tr>\n",
       "  </tbody>\n",
       "</table>\n",
       "<p>8760 rows × 1 columns</p>\n",
       "</div>"
      ],
      "text/plain": [
       "                           KR\n",
       "2021-01-01 00:00:00 -7.208960\n",
       "2021-01-01 01:00:00 -6.802008\n",
       "2021-01-01 02:00:00 -2.131903\n",
       "2021-01-01 03:00:00 -1.620947\n",
       "2021-01-01 04:00:00 -1.367712\n",
       "...                       ...\n",
       "2021-12-31 19:00:00 -8.567328\n",
       "2021-12-31 20:00:00 -9.063788\n",
       "2021-12-31 21:00:00 -9.432013\n",
       "2021-12-31 22:00:00 -9.613074\n",
       "2021-12-31 23:00:00 -9.773749\n",
       "\n",
       "[8760 rows x 1 columns]"
      ]
     },
     "execution_count": 328,
     "metadata": {},
     "output_type": "execute_result"
    }
   ],
   "source": [
    "temperatures"
   ]
  },
  {
   "cell_type": "code",
   "execution_count": 329,
   "metadata": {},
   "outputs": [],
   "source": [
    "# temperatures = pd.read_csv('original_data/europe_temperatures_1980-2020.csv', index_col = [0], infer_datetime_format=True)\n",
    "# temperatures.drop('IS', axis = 1) # Remove Iceland\n",
    "# temperatures.index = pd.to_datetime(temperatures.index)"
   ]
  },
  {
   "cell_type": "markdown",
   "metadata": {},
   "source": [
    "# Load regression parameters\n"
   ]
  },
  {
   "cell_type": "code",
   "execution_count": 330,
   "metadata": {},
   "outputs": [],
   "source": [
    "reg_parameters_days = pd.read_csv('processing/reg_parameters_days_of_week_2010-2014.csv', index_col = [0])\n",
    "reg_parameters_hours = pd.read_csv('processing/reg_parameters_hours_of_week_2010-2014.csv', index_col = [0])\n",
    "reg_parameters_temp = pd.read_csv('processing/reg_parameters_temp_2010-2014.csv', index_col = [0])\n",
    "reg_parameters_trend = pd.read_csv('processing/reg_parameters_trend_2010-2014.csv', index_col = [0])"
   ]
  },
  {
   "cell_type": "code",
   "execution_count": 331,
   "metadata": {},
   "outputs": [
    {
     "data": {
      "text/plain": [
       "Index(['AT', 'BE', 'BG', 'CH', 'CZ', 'DE', 'DK', 'EE', 'ES', 'FI', 'FR', 'UK',\n",
       "       'EL', 'HR', 'HU', 'IE', 'IT', 'LT', 'LU', 'LV', 'ME', 'MK', 'NL', 'NO',\n",
       "       'PL', 'PT', 'RO', 'RS', 'SE', 'SI', 'SK'],\n",
       "      dtype='object')"
      ]
     },
     "execution_count": 331,
     "metadata": {},
     "output_type": "execute_result"
    }
   ],
   "source": [
    "reg_parameters_days.columns"
   ]
  },
  {
   "cell_type": "code",
   "execution_count": 332,
   "metadata": {},
   "outputs": [],
   "source": [
    "# Dans un premier temps on s'intéresse aux coeffcients de régression pour la France\n",
    "reg_days_FR = reg_parameters_days['FR']\n",
    "reg_hours_FR = reg_parameters_hours['FR']\n",
    "reg_temp_FR = reg_parameters_temp['FR']\n",
    "reg_trend_FR = reg_parameters_trend['FR']\n",
    "\n",
    "reg_trend_FR=pd.DataFrame(reg_trend_FR)\n",
    "reg_days_FR=pd.DataFrame(reg_days_FR)\n",
    "reg_hours_FR=pd.DataFrame(reg_hours_FR)\n",
    "reg_temp_FR=pd.DataFrame(reg_temp_FR)\n",
    "\n",
    "reg_trend_FR.columns = ['KR']\n",
    "reg_days_FR.columns = ['KR']\n",
    "reg_hours_FR.columns = ['KR']\n",
    "reg_temp_FR.columns = ['KR']\n"
   ]
  },
  {
   "cell_type": "markdown",
   "metadata": {},
   "source": [
    "Since our validation year is 2015, compared to the training data from 2010 to 2014, all weather years that we use will be processed on the premise that they happened in 2015."
   ]
  },
  {
   "cell_type": "code",
   "execution_count": 333,
   "metadata": {},
   "outputs": [],
   "source": [
    "years = list(temperatures.index.to_series().dt.year.unique())\n",
    "countries = list(temperatures.columns)"
   ]
  },
  {
   "cell_type": "markdown",
   "metadata": {
    "tags": []
   },
   "source": [
    "Add holidays as previously with the `holidays` package and by adding Christmas week and for some countries Orthodox Christmas. "
   ]
  },
  {
   "cell_type": "code",
   "execution_count": 334,
   "metadata": {},
   "outputs": [],
   "source": [
    "list_holidays = {}\n",
    "yrs = years.copy()\n",
    "for c in countries:\n",
    "    if c == 'EL':\n",
    "        list_holidays[c] = holidays.CountryHoliday('GR', years = yrs)\n",
    "    else:\n",
    "        try:\n",
    "            list_holidays[c] = holidays.CountryHoliday(c, years = yrs)\n",
    "        except KeyError:\n",
    "            list_holidays[c] = holidays.HolidayBase() #if no holidays are available, e.g. ME, MK        \n",
    "\n",
    "# julian = ['ME', 'MK', 'RS']\n",
    "# gregorian = countries.copy()\n",
    "# for i in countries:\n",
    "#     if i in julian:\n",
    "#         gregorian.remove(i)\n",
    "\n",
    "# Add last week of the year as holidays.\n",
    "# for y in list(yrs):\n",
    "#     for i in gregorian:\n",
    "#         list_holidays[i].append(date(y,1,2))\n",
    "#         list_holidays[i].append(list(pd.date_range(start = date(y, 12, 24), end = date(y, 12, 31), freq = '1D')))\n",
    "#     for i in julian:\n",
    "#         list_holidays[i].append(list(pd.date_range(start = date(y, 1, 6), end = date(y, 1, 8), freq = '1D')))\n",
    "        "
   ]
  },
  {
   "cell_type": "code",
   "execution_count": 335,
   "metadata": {},
   "outputs": [],
   "source": [
    "# #Add German holidays before reunification (so include reunification as everything is assumed to be in 2015)\n",
    "# overlapping_holidays = ['Neujahrestag', 'Karfreitag', 'Ostermontag', 'Auffahrt', 'Pfingstmontag', 'Weihnachten']\n",
    "# for y in range(1980, 1991):\n",
    "#     for date, name in sorted(holidays.CH(years = y).items()):\n",
    "#         if name in overlapping_holidays:\n",
    "#             list_holidays['DE'].append({date: name})\n",
    "#     list_holidays['DE'].append(str(y)+'-05-01')\n",
    "#     list_holidays['DE'].append(str(y)+'-10-03')\n",
    "#     list_holidays['DE'].append(str(y)+'-12-26')"
   ]
  },
  {
   "cell_type": "code",
   "execution_count": 336,
   "metadata": {},
   "outputs": [],
   "source": [
    "# #Add Slovenian holidays before 1992\n",
    "# AT_SI = ['Neujahr', 'Allerheiligen', 'Stefanitag'] #New Year's, All Saints Day, Independence Day on Boxing Day\n",
    "# for y in range(1980, 1992):\n",
    "#     for date, name in sorted(holidays.AT(years = y).items()):\n",
    "#         if name in AT_SI:\n",
    "#             list_holidays['SI'].append({date: name})\n",
    "#     list_holidays['SI'].append(str(y)+'-02-08') #Preseren Day\n",
    "#     list_holidays['SI'].append(str(y)+'-04-27') #Day of uprising against occupation\n",
    "#     list_holidays['SI'].append(str(y)+'-05-01') #May 1\n",
    "#     list_holidays['SI'].append(str(y)+'-05-02') #May 1 over two days\n",
    "#     list_holidays['SI'].append(str(y)+'-06-25') #Statehood Day"
   ]
  },
  {
   "cell_type": "code",
   "execution_count": 337,
   "metadata": {},
   "outputs": [],
   "source": [
    "# #Add Bulgarian holidays before 1990\n",
    "# RO_BG = ['Paștele', 'Anul Nou', 'Ziua Muncii', 'Crăciunul'] #Orthodox Easter, New Year, First of May, Christmas\n",
    "# for y in range(1980, 1990):\n",
    "#     for date, name in sorted(holidays.RO(years = y).items()):\n",
    "#         if name in RO_BG:\n",
    "#             list_holidays['BG'].append({date: name})\n",
    "#     list_holidays['BG'].append(str(y)+'-03-03') #Liberation Day\n",
    "#     list_holidays['BG'].append(str(y)+'-05-06') #Saint George's Day\n",
    "#     list_holidays['BG'].append(str(y)+'-05-24') #Bulgarian Education and Culture and Slavonic Literature Day\n",
    "#     list_holidays['BG'].append(str(y)+'-09-06') #Unification Day\n",
    "#     list_holidays['BG'].append(str(y)+'-09-22') #independence Day"
   ]
  },
  {
   "cell_type": "markdown",
   "metadata": {},
   "source": [
    "Compute HDD and CDD for all years (with the threshold at 15.5 degrees Celsius)."
   ]
  },
  {
   "cell_type": "code",
   "execution_count": 338,
   "metadata": {},
   "outputs": [],
   "source": [
    "temperatures_daily = temperatures.resample('1D').mean()\n",
    "temperatures_daily['weekday'] = temperatures_daily.index.to_series().dt.dayofweek\n",
    "temperatures_daily['holiday'] = False\n",
    "temp_daily = {}\n",
    "for i in countries:\n",
    "    temp_daily[i] = pd.DataFrame(temperatures_daily[[i, 'weekday', 'holiday']])\n",
    "    temp_daily[i].columns = ['temp', 'weekday', 'holiday']\n",
    "temp_with_holidays = temp_daily.copy()\n",
    "for i in temp_with_holidays.keys():\n",
    "    for j in temp_with_holidays[i].index:\n",
    "        if j in list_holidays[i]:\n",
    "            temp_with_holidays[i].at[j, 'holiday'] = True"
   ]
  },
  {
   "cell_type": "code",
   "execution_count": 339,
   "metadata": {},
   "outputs": [],
   "source": [
    "daily_hc = compute_cdd_hdd_artificial(temp_daily, countries, threshold_hdd = 15.5, threshold_cdd = 15.5)"
   ]
  },
  {
   "cell_type": "markdown",
   "metadata": {},
   "source": [
    "Create the artificial demand"
   ]
  },
  {
   "cell_type": "code",
   "execution_count": 341,
   "metadata": {},
   "outputs": [],
   "source": [
    "countries = list(temperatures.columns)"
   ]
  },
  {
   "cell_type": "code",
   "execution_count": 344,
   "metadata": {},
   "outputs": [],
   "source": [
    "# artificial_demand_daily, days, first_day = create_daily_data(reg_parameters_days, reg_parameters_trend.loc[\"par_trend\"], daily_hc, reg_parameters_temp.T, countries, start = 1980, end= 2021, validation_days=1826)\n",
    "artificial_demand_daily, days, first_day = create_daily_data(reg_days_FR, pd.DataFrame(reg_trend_FR).loc[\"par_trend\"], daily_hc, reg_temp_FR.T, countries, start = 2021, end= 2022, validation_days=1826)"
   ]
  },
  {
   "cell_type": "code",
   "execution_count": 348,
   "metadata": {},
   "outputs": [
    {
     "name": "stderr",
     "output_type": "stream",
     "text": [
      "C:\\Users\\JD278300\\AppData\\Local\\Temp\\ipykernel_31620\\3029393921.py:17: FutureWarning: Series.__getitem__ treating keys as positions is deprecated. In a future version, integer keys will always be treated as labels (consistent with DataFrame behavior). To access a value by position, use `ser.iloc[pos]`\n",
      "  0 + artificial[i][j // 24] * weekly_profile[i].iloc[k]\n"
     ]
    }
   ],
   "source": [
    "artificial_demand_hourly = create_hourly_data(artificial_demand_daily, reg_hours_FR, temperatures, first_day, countries, start = 2021, end = 2022)"
   ]
  },
  {
   "cell_type": "code",
   "execution_count": 349,
   "metadata": {},
   "outputs": [],
   "source": [
    "artificial_demand_ts = pd.concat(artificial_demand_hourly, axis = 1).round(1)"
   ]
  },
  {
   "cell_type": "code",
   "execution_count": 350,
   "metadata": {},
   "outputs": [
    {
     "data": {
      "text/html": [
       "<div>\n",
       "<style scoped>\n",
       "    .dataframe tbody tr th:only-of-type {\n",
       "        vertical-align: middle;\n",
       "    }\n",
       "\n",
       "    .dataframe tbody tr th {\n",
       "        vertical-align: top;\n",
       "    }\n",
       "\n",
       "    .dataframe thead th {\n",
       "        text-align: right;\n",
       "    }\n",
       "</style>\n",
       "<table border=\"1\" class=\"dataframe\">\n",
       "  <thead>\n",
       "    <tr style=\"text-align: right;\">\n",
       "      <th></th>\n",
       "      <th>KR</th>\n",
       "    </tr>\n",
       "  </thead>\n",
       "  <tbody>\n",
       "    <tr>\n",
       "      <th>2021-01-01 00:00:00</th>\n",
       "      <td>62841.4</td>\n",
       "    </tr>\n",
       "    <tr>\n",
       "      <th>2021-01-01 01:00:00</th>\n",
       "      <td>61805.2</td>\n",
       "    </tr>\n",
       "    <tr>\n",
       "      <th>2021-01-01 02:00:00</th>\n",
       "      <td>59116.6</td>\n",
       "    </tr>\n",
       "    <tr>\n",
       "      <th>2021-01-01 03:00:00</th>\n",
       "      <td>56816.9</td>\n",
       "    </tr>\n",
       "    <tr>\n",
       "      <th>2021-01-01 04:00:00</th>\n",
       "      <td>57012.9</td>\n",
       "    </tr>\n",
       "    <tr>\n",
       "      <th>...</th>\n",
       "      <td>...</td>\n",
       "    </tr>\n",
       "    <tr>\n",
       "      <th>2021-12-31 19:00:00</th>\n",
       "      <td>84422.6</td>\n",
       "    </tr>\n",
       "    <tr>\n",
       "      <th>2021-12-31 20:00:00</th>\n",
       "      <td>80967.1</td>\n",
       "    </tr>\n",
       "    <tr>\n",
       "      <th>2021-12-31 21:00:00</th>\n",
       "      <td>78590.5</td>\n",
       "    </tr>\n",
       "    <tr>\n",
       "      <th>2021-12-31 22:00:00</th>\n",
       "      <td>82907.6</td>\n",
       "    </tr>\n",
       "    <tr>\n",
       "      <th>2021-12-31 23:00:00</th>\n",
       "      <td>80649.2</td>\n",
       "    </tr>\n",
       "  </tbody>\n",
       "</table>\n",
       "<p>8760 rows × 1 columns</p>\n",
       "</div>"
      ],
      "text/plain": [
       "                          KR\n",
       "2021-01-01 00:00:00  62841.4\n",
       "2021-01-01 01:00:00  61805.2\n",
       "2021-01-01 02:00:00  59116.6\n",
       "2021-01-01 03:00:00  56816.9\n",
       "2021-01-01 04:00:00  57012.9\n",
       "...                      ...\n",
       "2021-12-31 19:00:00  84422.6\n",
       "2021-12-31 20:00:00  80967.1\n",
       "2021-12-31 21:00:00  78590.5\n",
       "2021-12-31 22:00:00  82907.6\n",
       "2021-12-31 23:00:00  80649.2\n",
       "\n",
       "[8760 rows x 1 columns]"
      ]
     },
     "execution_count": 350,
     "metadata": {},
     "output_type": "execute_result"
    }
   ],
   "source": [
    "artificial_demand_ts"
   ]
  },
  {
   "cell_type": "code",
   "execution_count": 351,
   "metadata": {},
   "outputs": [],
   "source": [
    "artificial_demand_ts.to_csv(f'KR_demand_artificial_2021-2022.csv')"
   ]
  }
 ],
 "metadata": {
  "kernelspec": {
   "display_name": "Python 3 (ipykernel)",
   "language": "python",
   "name": "python3"
  },
  "language_info": {
   "codemirror_mode": {
    "name": "ipython",
    "version": 3
   },
   "file_extension": ".py",
   "mimetype": "text/x-python",
   "name": "python",
   "nbconvert_exporter": "python",
   "pygments_lexer": "ipython3",
   "version": "3.10.14"
  },
  "vscode": {
   "interpreter": {
    "hash": "75977c85990619d1647f36589d3e4595fb105b474683d763bf223bafd2ba259d"
   }
  }
 },
 "nbformat": 4,
 "nbformat_minor": 4
}
